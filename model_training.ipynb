{
 "cells": [
  {
   "cell_type": "code",
   "execution_count": 1,
   "id": "4fafeaff-eb4d-4bd2-884b-29419179d409",
   "metadata": {},
   "outputs": [
    {
     "name": "stdout",
     "output_type": "stream",
     "text": [
      "hello world\n"
     ]
    }
   ],
   "source": [
    "print(\"hello world\") # testing"
   ]
  },
  {
   "cell_type": "code",
   "execution_count": 2,
   "id": "6fd79b01-e354-4988-a460-adfa6e3aee7e",
   "metadata": {},
   "outputs": [],
   "source": [
    "import numpy as np\n",
    "import pandas as pd"
   ]
  },
  {
   "cell_type": "code",
   "execution_count": 3,
   "id": "5c4ed226-dddf-4e35-a0ed-d37dd821774c",
   "metadata": {},
   "outputs": [],
   "source": [
    "df = pd.read_csv(\"spotify_millsongdata.csv\");"
   ]
  },
  {
   "cell_type": "code",
   "execution_count": 4,
   "id": "d63e2e18-1802-4516-b855-3aa6b12536fd",
   "metadata": {},
   "outputs": [
    {
     "name": "stdout",
     "output_type": "stream",
     "text": [
      "  artist                   song                                        link  \\\n",
      "0   ABBA  Ahe's My Kind Of Girl  /a/abba/ahes+my+kind+of+girl_20598417.html   \n",
      "1   ABBA       Andante, Andante       /a/abba/andante+andante_20002708.html   \n",
      "2   ABBA         As Good As New        /a/abba/as+good+as+new_20003033.html   \n",
      "3   ABBA                   Bang                  /a/abba/bang_20598415.html   \n",
      "4   ABBA       Bang-A-Boomerang      /a/abba/bang+a+boomerang_20002668.html   \n",
      "\n",
      "                                                text  \n",
      "0  Look at her face, it's a wonderful face  \\r\\nA...  \n",
      "1  Take it easy with me, please  \\r\\nTouch me gen...  \n",
      "2  I'll never know why I had to go  \\r\\nWhy I had...  \n",
      "3  Making somebody happy is a question of give an...  \n",
      "4  Making somebody happy is a question of give an...  \n"
     ]
    }
   ],
   "source": [
    "print(df.head(5))"
   ]
  },
  {
   "cell_type": "code",
   "execution_count": 5,
   "id": "b20b7a27-b475-4c32-bd8d-bf52cd6146fd",
   "metadata": {},
   "outputs": [
    {
     "name": "stdout",
     "output_type": "stream",
     "text": [
      "             artist           song  \\\n",
      "57645  Ziggy Marley  Good Old Days   \n",
      "57646  Ziggy Marley  Hand To Mouth   \n",
      "57647          Zwan   Come With Me   \n",
      "57648          Zwan         Desire   \n",
      "57649          Zwan      Heartsong   \n",
      "\n",
      "                                              link  \\\n",
      "57645  /z/ziggy+marley/good+old+days_10198588.html   \n",
      "57646  /z/ziggy+marley/hand+to+mouth_20531167.html   \n",
      "57647           /z/zwan/come+with+me_20148981.html   \n",
      "57648                 /z/zwan/desire_20148986.html   \n",
      "57649              /z/zwan/heartsong_20148991.html   \n",
      "\n",
      "                                                    text  \n",
      "57645  Irie days come on play  \\r\\nLet the angels fly...  \n",
      "57646  Power to the workers  \\r\\nMore power  \\r\\nPowe...  \n",
      "57647  all you need  \\r\\nis something i'll believe  \\...  \n",
      "57648  northern star  \\r\\nam i frightened  \\r\\nwhere ...  \n",
      "57649  come in  \\r\\nmake yourself at home  \\r\\ni'm a ...  \n"
     ]
    }
   ],
   "source": [
    "print(df.tail(5))"
   ]
  },
  {
   "cell_type": "code",
   "execution_count": 6,
   "id": "06641111-4e0a-45ff-8ef1-365cfd3f022f",
   "metadata": {},
   "outputs": [
    {
     "data": {
      "text/plain": [
       "(57650, 4)"
      ]
     },
     "execution_count": 6,
     "metadata": {},
     "output_type": "execute_result"
    }
   ],
   "source": [
    "df.shape"
   ]
  },
  {
   "cell_type": "code",
   "execution_count": 7,
   "id": "45d6cc61-e607-4bef-9af3-6388215c5881",
   "metadata": {},
   "outputs": [
    {
     "data": {
      "text/plain": [
       "artist    0\n",
       "song      0\n",
       "link      0\n",
       "text      0\n",
       "dtype: int64"
      ]
     },
     "execution_count": 7,
     "metadata": {},
     "output_type": "execute_result"
    }
   ],
   "source": [
    "df.isnull().sum()"
   ]
  },
  {
   "cell_type": "code",
   "execution_count": 8,
   "id": "6e6afa82-9fd6-42c4-aafb-fc0ef6a6abcc",
   "metadata": {},
   "outputs": [],
   "source": [
    "df =df.sample(5000).drop('link', axis=1).reset_index(drop=True)"
   ]
  },
  {
   "cell_type": "code",
   "execution_count": 9,
   "id": "36d58399-ea08-455b-87c5-b5347b1507c7",
   "metadata": {},
   "outputs": [
    {
     "data": {
      "text/html": [
       "<div>\n",
       "<style scoped>\n",
       "    .dataframe tbody tr th:only-of-type {\n",
       "        vertical-align: middle;\n",
       "    }\n",
       "\n",
       "    .dataframe tbody tr th {\n",
       "        vertical-align: top;\n",
       "    }\n",
       "\n",
       "    .dataframe thead th {\n",
       "        text-align: right;\n",
       "    }\n",
       "</style>\n",
       "<table border=\"1\" class=\"dataframe\">\n",
       "  <thead>\n",
       "    <tr style=\"text-align: right;\">\n",
       "      <th></th>\n",
       "      <th>artist</th>\n",
       "      <th>song</th>\n",
       "      <th>text</th>\n",
       "    </tr>\n",
       "  </thead>\n",
       "  <tbody>\n",
       "    <tr>\n",
       "      <th>0</th>\n",
       "      <td>Kiss</td>\n",
       "      <td>King Of The Night Time World</td>\n",
       "      <td>It's so sad, livin' at home  \\r\\nFar from the ...</td>\n",
       "    </tr>\n",
       "    <tr>\n",
       "      <th>1</th>\n",
       "      <td>Def Leppard</td>\n",
       "      <td>C'mon C'mon</td>\n",
       "      <td>Everybody, everyone c'mon c'mon  \\r\\nC'mon c'm...</td>\n",
       "    </tr>\n",
       "    <tr>\n",
       "      <th>2</th>\n",
       "      <td>Robbie Williams</td>\n",
       "      <td>Angel</td>\n",
       "      <td>I sit and wait  \\r\\nDoes an angel contemplate ...</td>\n",
       "    </tr>\n",
       "    <tr>\n",
       "      <th>3</th>\n",
       "      <td>Jimmy Buffett</td>\n",
       "      <td>Creola</td>\n",
       "      <td>Creola in my soul-a  \\r\\nI loved what they wer...</td>\n",
       "    </tr>\n",
       "    <tr>\n",
       "      <th>4</th>\n",
       "      <td>Regine Velasquez</td>\n",
       "      <td>Bluer Than Blue</td>\n",
       "      <td>After you go, I can catch on my reading  \\r\\nA...</td>\n",
       "    </tr>\n",
       "    <tr>\n",
       "      <th>5</th>\n",
       "      <td>George Jones</td>\n",
       "      <td>Don't Stop The Music</td>\n",
       "      <td>Don't stop the music let it play one more song...</td>\n",
       "    </tr>\n",
       "    <tr>\n",
       "      <th>6</th>\n",
       "      <td>Ed Sheeran</td>\n",
       "      <td>Autumn Leaves</td>\n",
       "      <td>Another day another life  \\r\\nPasses by just l...</td>\n",
       "    </tr>\n",
       "    <tr>\n",
       "      <th>7</th>\n",
       "      <td>Gino Vannelli</td>\n",
       "      <td>My Oh My It's A Miracle</td>\n",
       "      <td>My oh my it's a miracle  \\r\\nGood morning love...</td>\n",
       "    </tr>\n",
       "    <tr>\n",
       "      <th>8</th>\n",
       "      <td>Waylon Jennings</td>\n",
       "      <td>Baker Street</td>\n",
       "      <td>Winding your way down on Baker Street  \\r\\nLit...</td>\n",
       "    </tr>\n",
       "    <tr>\n",
       "      <th>9</th>\n",
       "      <td>Hank Snow</td>\n",
       "      <td>Broken Hearted</td>\n",
       "      <td>You ask me why I'm broken hearted  \\r\\nWhy, I'...</td>\n",
       "    </tr>\n",
       "  </tbody>\n",
       "</table>\n",
       "</div>"
      ],
      "text/plain": [
       "             artist                          song  \\\n",
       "0              Kiss  King Of The Night Time World   \n",
       "1       Def Leppard                   C'mon C'mon   \n",
       "2   Robbie Williams                         Angel   \n",
       "3     Jimmy Buffett                        Creola   \n",
       "4  Regine Velasquez               Bluer Than Blue   \n",
       "5      George Jones          Don't Stop The Music   \n",
       "6        Ed Sheeran                 Autumn Leaves   \n",
       "7     Gino Vannelli       My Oh My It's A Miracle   \n",
       "8   Waylon Jennings                  Baker Street   \n",
       "9         Hank Snow                Broken Hearted   \n",
       "\n",
       "                                                text  \n",
       "0  It's so sad, livin' at home  \\r\\nFar from the ...  \n",
       "1  Everybody, everyone c'mon c'mon  \\r\\nC'mon c'm...  \n",
       "2  I sit and wait  \\r\\nDoes an angel contemplate ...  \n",
       "3  Creola in my soul-a  \\r\\nI loved what they wer...  \n",
       "4  After you go, I can catch on my reading  \\r\\nA...  \n",
       "5  Don't stop the music let it play one more song...  \n",
       "6  Another day another life  \\r\\nPasses by just l...  \n",
       "7  My oh my it's a miracle  \\r\\nGood morning love...  \n",
       "8  Winding your way down on Baker Street  \\r\\nLit...  \n",
       "9  You ask me why I'm broken hearted  \\r\\nWhy, I'...  "
      ]
     },
     "execution_count": 9,
     "metadata": {},
     "output_type": "execute_result"
    }
   ],
   "source": [
    "df.head(10)"
   ]
  },
  {
   "cell_type": "code",
   "execution_count": 10,
   "id": "648d37c2-326d-47e3-a0f7-6a24248abb13",
   "metadata": {},
   "outputs": [
    {
     "data": {
      "text/plain": [
       "\"It's so sad, livin' at home  \\r\\nFar from the city and the midnight fun  \\r\\nIt's so bad, goin' to school  \\r\\nSo far from me and the dirty things that we do  \\r\\nI'm the king of the night time world  \\r\\nAnd you're my headlight queen  \\r\\nI'm the king of the night time world  \\r\\nCome live your secret dream  \\r\\nIt's so fine, lovin' with ease  \\r\\nFar from the house and the family fights  \\r\\nIt's so fine, bein' with you  \\r\\nBein' with me makes everything alright  \\r\\nI'm the king of the night time world  \\r\\nAnd you're my headlight queen  \\r\\nI'm the king of the night time world  \\r\\nCome live your secret dream, alright  \\r\\nIt's so sad, you're not content  \\r\\nFar from the music and the neon glow  \\r\\nAin't you glad we got the time  \\r\\nFar from our folks, they'll never ever know  \\r\\nI'm the king of the night time world  \\r\\nAnd you're my headlight queen  \\r\\nI'm the king of the night time world  \\r\\nCome live your secret dream  \\r\\nI'm the king, I'm the king, I'm the king, I'm the king  \\r\\nI'm the king, I'm the king, I'm the king, I'm the king  \\r\\nI'm the king of the night time world  \\r\\nAnd you're my headlight queen  \\r\\nI'm the king of the night time world  \\r\\nCome live your secret dream  \\r\\nI'm the king of the night time world  \\r\\nAnd you're my headlight queen  \\r\\nI'm the king of the night time world  \\r\\nCome live your secret dream  \\r\\nI'm the king of the night time world  \\r\\nAnd you're my headlight queen  \\r\\nI'm the king of the night time world  \\r\\nCome live your secret dream  \\r\\nI'm the king of the night time world\\r\\n\\r\\n\""
      ]
     },
     "execution_count": 10,
     "metadata": {},
     "output_type": "execute_result"
    }
   ],
   "source": [
    "df['text'][0]"
   ]
  },
  {
   "cell_type": "code",
   "execution_count": 11,
   "id": "29889600-5fc6-4494-aff3-de5caa76cbc7",
   "metadata": {},
   "outputs": [
    {
     "data": {
      "text/plain": [
       "(5000, 3)"
      ]
     },
     "execution_count": 11,
     "metadata": {},
     "output_type": "execute_result"
    }
   ],
   "source": [
    "df.shape"
   ]
  },
  {
   "cell_type": "code",
   "execution_count": 12,
   "id": "b7be35b1-fd7f-45de-a95c-bbe3afac386d",
   "metadata": {},
   "outputs": [],
   "source": [
    "df['text'] = df['text'].str.lower().replace(r'^\\w\\s','').replace(r'\\n',' ',regex = True)"
   ]
  },
  {
   "cell_type": "code",
   "execution_count": 21,
   "id": "4f1b0579-80ad-4fa6-bb79-c684c13bd5c2",
   "metadata": {},
   "outputs": [],
   "source": [
    "import nltk\n",
    "from nltk.stem.porter import PorterStemmer\n",
    "stemmer = PorterStemmer()\n",
    "\n",
    "def tokenization(txt):\n",
    "    tokens = nltk.word_tokenize(txt)\n",
    "    stemming = [stemmer.stem(w) for w in tokens]\n",
    "    return \" \".join(stemming)"
   ]
  },
  {
   "cell_type": "code",
   "execution_count": 22,
   "id": "7eefd3b2-be8d-4369-9586-58348473ae18",
   "metadata": {},
   "outputs": [],
   "source": [
    "df['text'] = df['text'].apply(lambda x: tokenization(x))"
   ]
  },
  {
   "cell_type": "code",
   "execution_count": 23,
   "id": "fd229560-9385-4ec4-8346-a2e6112d13d8",
   "metadata": {},
   "outputs": [
    {
     "name": "stdout",
     "output_type": "stream",
     "text": [
      "Requirement already satisfied: scikit-learn in c:\\users\\dell\\anaconda3\\lib\\site-packages (1.2.2)\n",
      "Requirement already satisfied: numpy>=1.17.3 in c:\\users\\dell\\anaconda3\\lib\\site-packages (from scikit-learn) (1.26.4)\n",
      "Requirement already satisfied: scipy>=1.3.2 in c:\\users\\dell\\anaconda3\\lib\\site-packages (from scikit-learn) (1.11.4)\n",
      "Requirement already satisfied: joblib>=1.1.1 in c:\\users\\dell\\anaconda3\\lib\\site-packages (from scikit-learn) (1.2.0)\n",
      "Requirement already satisfied: threadpoolctl>=2.0.0 in c:\\users\\dell\\anaconda3\\lib\\site-packages (from scikit-learn) (2.2.0)\n"
     ]
    }
   ],
   "source": [
    "!pip install scikit-learn"
   ]
  },
  {
   "cell_type": "code",
   "execution_count": 25,
   "id": "eb2222ff-5851-4fd5-9256-7274e39d1344",
   "metadata": {},
   "outputs": [],
   "source": [
    "from sklearn.feature_extraction.text import TfidfVectorizer\n",
    "from sklearn.metrics.pairwise import cosine_similarity"
   ]
  },
  {
   "cell_type": "code",
   "execution_count": 26,
   "id": "2df8f5e3-9312-4f82-b90a-a7881413dd6f",
   "metadata": {},
   "outputs": [],
   "source": [
    "tfidvector = TfidfVectorizer(analyzer='word',stop_words='english')\n",
    "matrix = tfidvector.fit_transform(df['text'])\n",
    "similarity = cosine_similarity(matrix)"
   ]
  },
  {
   "cell_type": "code",
   "execution_count": 27,
   "id": "cdb50738-9ed8-408d-98b3-f11efd7165e0",
   "metadata": {},
   "outputs": [
    {
     "data": {
      "text/plain": [
       "array([1.        , 0.00706159, 0.00955081, ..., 0.00163735, 0.03327861,\n",
       "       0.0432749 ])"
      ]
     },
     "execution_count": 27,
     "metadata": {},
     "output_type": "execute_result"
    }
   ],
   "source": [
    "similarity[0]"
   ]
  },
  {
   "cell_type": "code",
   "execution_count": 28,
   "id": "cb7113ba-3f85-4e11-8429-f4d10f11252d",
   "metadata": {},
   "outputs": [
    {
     "data": {
      "text/html": [
       "<div>\n",
       "<style scoped>\n",
       "    .dataframe tbody tr th:only-of-type {\n",
       "        vertical-align: middle;\n",
       "    }\n",
       "\n",
       "    .dataframe tbody tr th {\n",
       "        vertical-align: top;\n",
       "    }\n",
       "\n",
       "    .dataframe thead th {\n",
       "        text-align: right;\n",
       "    }\n",
       "</style>\n",
       "<table border=\"1\" class=\"dataframe\">\n",
       "  <thead>\n",
       "    <tr style=\"text-align: right;\">\n",
       "      <th></th>\n",
       "      <th>artist</th>\n",
       "      <th>song</th>\n",
       "      <th>text</th>\n",
       "    </tr>\n",
       "  </thead>\n",
       "  <tbody>\n",
       "  </tbody>\n",
       "</table>\n",
       "</div>"
      ],
      "text/plain": [
       "Empty DataFrame\n",
       "Columns: [artist, song, text]\n",
       "Index: []"
      ]
     },
     "execution_count": 28,
     "metadata": {},
     "output_type": "execute_result"
    }
   ],
   "source": [
    "df[df['song'] == 'Crying Over You']"
   ]
  },
  {
   "cell_type": "code",
   "execution_count": 29,
   "id": "73ac482f-d4f2-488d-a0fd-4d71059abdd3",
   "metadata": {},
   "outputs": [],
   "source": [
    "def recommendation(song_df):\n",
    "    idx = df[df['song'] == song_df].index[0]\n",
    "    distances = sorted(list(enumerate(similarity[idx])),reverse=True,key=lambda x:x[1])\n",
    "    \n",
    "    songs = []\n",
    "    for m_id in distances[1:21]:\n",
    "        songs.append(df.iloc[m_id[0]].song)\n",
    "        \n",
    "    return songs"
   ]
  },
  {
   "cell_type": "code",
   "execution_count": 31,
   "id": "9fa700e6-e7ec-4cb8-abbb-085d4e4b0f64",
   "metadata": {},
   "outputs": [
    {
     "data": {
      "text/plain": [
       "[\"Hope She'll Be Happier\",\n",
       " 'Blue Train',\n",
       " \"I'm Looking For Blue Eyes\",\n",
       " 'Blue',\n",
       " 'How Much I Lied',\n",
       " 'Midnight Blue',\n",
       " 'Blue',\n",
       " \"I'd Rather Be Blue Over You (Than Happy With Somebody Else)\",\n",
       " 'Gonna Love Ya',\n",
       " 'Blue Island',\n",
       " 'Baby Blue',\n",
       " 'Blue Turns To Grey',\n",
       " 'In My Life',\n",
       " 'Singing The Blues',\n",
       " 'Black And Blue',\n",
       " 'Jet Boy Blue',\n",
       " 'High Lonesome Sound',\n",
       " 'Bye Bye Baby Blues',\n",
       " 'Till Your Well Runs Dry',\n",
       " 'Turn']"
      ]
     },
     "execution_count": 31,
     "metadata": {},
     "output_type": "execute_result"
    }
   ],
   "source": [
    "recommendation('Bluer Than Blue')"
   ]
  },
  {
   "cell_type": "code",
   "execution_count": 33,
   "id": "b775d6d5-f427-47ba-8ae4-6478057d9681",
   "metadata": {},
   "outputs": [],
   "source": [
    "import pickle"
   ]
  },
  {
   "cell_type": "code",
   "execution_count": 34,
   "id": "f39332de-05b4-4000-beda-0b8c74eded8a",
   "metadata": {},
   "outputs": [],
   "source": [
    "pickle.dump(similarity,open('similarity.pkl','wb'))\n",
    "pickle.dump(df,open('df.pkl','wb'))"
   ]
  },
  {
   "cell_type": "code",
   "execution_count": null,
   "id": "87129434-a1a3-460a-ba59-09a4d7dc5733",
   "metadata": {},
   "outputs": [],
   "source": []
  }
 ],
 "metadata": {
  "kernelspec": {
   "display_name": "Python 3 (ipykernel)",
   "language": "python",
   "name": "python3"
  },
  "language_info": {
   "codemirror_mode": {
    "name": "ipython",
    "version": 3
   },
   "file_extension": ".py",
   "mimetype": "text/x-python",
   "name": "python",
   "nbconvert_exporter": "python",
   "pygments_lexer": "ipython3",
   "version": "3.11.7"
  }
 },
 "nbformat": 4,
 "nbformat_minor": 5
}
